{
 "cells": [
  {
   "cell_type": "markdown",
   "id": "d66642df-b758-484d-9cf8-fa763e3b9ea1",
   "metadata": {},
   "source": [
    "# Exploration of the features evaluation\n",
    "The following notebook evaluates the different combinations of features (electrode groups, frequency bands)\n",
    "by optimizing random forests and logistic regression on each combination."
   ]
  },
  {
   "cell_type": "code",
   "execution_count": 1,
   "id": "759f9c63-21e0-4bfe-ac28-23d3c787f887",
   "metadata": {},
   "outputs": [],
   "source": [
    "import matplotlib.pyplot as plt\n",
    "import seaborn as sns\n",
    "import numpy as np\n",
    "import pandas as pd\n",
    "import os\n",
    "import sys\n",
    "sys.path.append('.')\n",
    "sns.set_theme()\n",
    "%load_ext autoreload\n",
    "%autoreload 2"
   ]
  },
  {
   "cell_type": "markdown",
   "id": "246b8b38-abba-4233-882e-8069863c588a",
   "metadata": {},
   "source": [
    "## Evaluating through random forests\n",
    "Run the following script to evaluate each combination using a Random Forest Classifier:  \n",
    "```python scripts/evaluate_features.py random_forest```  \n",
    "The model uses the clean data of subject 1 day 4, and tries a maximum depth of 3 nodes. While we noticed that a depth of more than three\n",
    "does not improve the results, it especially allows for better interpretation."
   ]
  },
  {
   "cell_type": "markdown",
   "id": "147705d9-920f-4bc8-b44c-a24a1154179b",
   "metadata": {},
   "source": [
    "Load the results as a pandas DataFrame:"
   ]
  },
  {
   "cell_type": "code",
   "execution_count": 2,
   "id": "ba9926ff-26f6-4dcc-83de-e621b4e45352",
   "metadata": {},
   "outputs": [
    {
     "data": {
      "text/html": [
       "<div>\n",
       "<style scoped>\n",
       "    .dataframe tbody tr th:only-of-type {\n",
       "        vertical-align: middle;\n",
       "    }\n",
       "\n",
       "    .dataframe tbody tr th {\n",
       "        vertical-align: top;\n",
       "    }\n",
       "\n",
       "    .dataframe thead th {\n",
       "        text-align: right;\n",
       "    }\n",
       "</style>\n",
       "<table border=\"1\" class=\"dataframe\">\n",
       "  <thead>\n",
       "    <tr style=\"text-align: right;\">\n",
       "      <th></th>\n",
       "      <th>Unnamed: 0</th>\n",
       "      <th>frequencies</th>\n",
       "      <th>electrodes</th>\n",
       "      <th>train_acc</th>\n",
       "      <th>train_std</th>\n",
       "      <th>acc</th>\n",
       "      <th>std</th>\n",
       "      <th>param</th>\n",
       "      <th>n_features</th>\n",
       "    </tr>\n",
       "  </thead>\n",
       "  <tbody>\n",
       "    <tr>\n",
       "      <th>0</th>\n",
       "      <td>0</td>\n",
       "      <td>all</td>\n",
       "      <td>all</td>\n",
       "      <td>0.993700</td>\n",
       "      <td>0.007716</td>\n",
       "      <td>0.862500</td>\n",
       "      <td>0.091856</td>\n",
       "      <td>1</td>\n",
       "      <td>31062</td>\n",
       "    </tr>\n",
       "    <tr>\n",
       "      <th>1</th>\n",
       "      <td>1</td>\n",
       "      <td>all</td>\n",
       "      <td>all</td>\n",
       "      <td>1.000000</td>\n",
       "      <td>0.000000</td>\n",
       "      <td>0.862500</td>\n",
       "      <td>0.082916</td>\n",
       "      <td>2</td>\n",
       "      <td>31062</td>\n",
       "    </tr>\n",
       "    <tr>\n",
       "      <th>2</th>\n",
       "      <td>2</td>\n",
       "      <td>all</td>\n",
       "      <td>all</td>\n",
       "      <td>1.000000</td>\n",
       "      <td>0.000000</td>\n",
       "      <td>0.875000</td>\n",
       "      <td>0.068465</td>\n",
       "      <td>3</td>\n",
       "      <td>31062</td>\n",
       "    </tr>\n",
       "    <tr>\n",
       "      <th>3</th>\n",
       "      <td>3</td>\n",
       "      <td>all</td>\n",
       "      <td>right temporal</td>\n",
       "      <td>0.949405</td>\n",
       "      <td>0.011671</td>\n",
       "      <td>0.860833</td>\n",
       "      <td>0.099847</td>\n",
       "      <td>1</td>\n",
       "      <td>4509</td>\n",
       "    </tr>\n",
       "    <tr>\n",
       "      <th>4</th>\n",
       "      <td>4</td>\n",
       "      <td>all</td>\n",
       "      <td>right temporal</td>\n",
       "      <td>1.000000</td>\n",
       "      <td>0.000000</td>\n",
       "      <td>0.898333</td>\n",
       "      <td>0.085334</td>\n",
       "      <td>2</td>\n",
       "      <td>4509</td>\n",
       "    </tr>\n",
       "  </tbody>\n",
       "</table>\n",
       "</div>"
      ],
      "text/plain": [
       "   Unnamed: 0 frequencies      electrodes  train_acc  train_std       acc  \\\n",
       "0           0         all             all   0.993700   0.007716  0.862500   \n",
       "1           1         all             all   1.000000   0.000000  0.862500   \n",
       "2           2         all             all   1.000000   0.000000  0.875000   \n",
       "3           3         all  right temporal   0.949405   0.011671  0.860833   \n",
       "4           4         all  right temporal   1.000000   0.000000  0.898333   \n",
       "\n",
       "        std  param  n_features  \n",
       "0  0.091856      1       31062  \n",
       "1  0.082916      2       31062  \n",
       "2  0.068465      3       31062  \n",
       "3  0.099847      1        4509  \n",
       "4  0.085334      2        4509  "
      ]
     },
     "execution_count": 2,
     "metadata": {},
     "output_type": "execute_result"
    }
   ],
   "source": [
    "rfc_df = pd.read_csv(os.path.join('evaluations', 'random_forest_features_evaluation.csv'))\n",
    "rfc_df.head()"
   ]
  },
  {
   "cell_type": "markdown",
   "id": "3865cdd6-1483-4d5e-8ba3-dc44041115bf",
   "metadata": {},
   "source": [
    "For random forests, 'param' is the max depth of the tree."
   ]
  },
  {
   "cell_type": "markdown",
   "id": "4b093711-b07d-461e-986a-43b23c9465b3",
   "metadata": {},
   "source": [
    "### Best combinations\n",
    "We're interested in knowing which combinations of features yield the best test results:"
   ]
  },
  {
   "cell_type": "code",
   "execution_count": 3,
   "id": "67659cc6-4a96-4560-b541-a717ae9d78b1",
   "metadata": {},
   "outputs": [
    {
     "data": {
      "text/html": [
       "<div>\n",
       "<style scoped>\n",
       "    .dataframe tbody tr th:only-of-type {\n",
       "        vertical-align: middle;\n",
       "    }\n",
       "\n",
       "    .dataframe tbody tr th {\n",
       "        vertical-align: top;\n",
       "    }\n",
       "\n",
       "    .dataframe thead th {\n",
       "        text-align: right;\n",
       "    }\n",
       "</style>\n",
       "<table border=\"1\" class=\"dataframe\">\n",
       "  <thead>\n",
       "    <tr style=\"text-align: right;\">\n",
       "      <th></th>\n",
       "      <th>Unnamed: 0</th>\n",
       "      <th>frequencies</th>\n",
       "      <th>electrodes</th>\n",
       "      <th>train_acc</th>\n",
       "      <th>train_std</th>\n",
       "      <th>acc</th>\n",
       "      <th>std</th>\n",
       "      <th>param</th>\n",
       "      <th>n_features</th>\n",
       "    </tr>\n",
       "  </thead>\n",
       "  <tbody>\n",
       "    <tr>\n",
       "      <th>172</th>\n",
       "      <td>172</td>\n",
       "      <td>['hgamma', 'lgamma']</td>\n",
       "      <td>right temporal</td>\n",
       "      <td>0.996825</td>\n",
       "      <td>0.006349</td>\n",
       "      <td>0.912500</td>\n",
       "      <td>0.093541</td>\n",
       "      <td>2</td>\n",
       "      <td>4509</td>\n",
       "    </tr>\n",
       "    <tr>\n",
       "      <th>173</th>\n",
       "      <td>173</td>\n",
       "      <td>['hgamma', 'lgamma']</td>\n",
       "      <td>right temporal</td>\n",
       "      <td>1.000000</td>\n",
       "      <td>0.000000</td>\n",
       "      <td>0.912500</td>\n",
       "      <td>0.063738</td>\n",
       "      <td>3</td>\n",
       "      <td>4509</td>\n",
       "    </tr>\n",
       "    <tr>\n",
       "      <th>20</th>\n",
       "      <td>20</td>\n",
       "      <td>all</td>\n",
       "      <td>central</td>\n",
       "      <td>1.000000</td>\n",
       "      <td>0.000000</td>\n",
       "      <td>0.899167</td>\n",
       "      <td>0.063268</td>\n",
       "      <td>3</td>\n",
       "      <td>9519</td>\n",
       "    </tr>\n",
       "    <tr>\n",
       "      <th>4</th>\n",
       "      <td>4</td>\n",
       "      <td>all</td>\n",
       "      <td>right temporal</td>\n",
       "      <td>1.000000</td>\n",
       "      <td>0.000000</td>\n",
       "      <td>0.898333</td>\n",
       "      <td>0.085334</td>\n",
       "      <td>2</td>\n",
       "      <td>4509</td>\n",
       "    </tr>\n",
       "    <tr>\n",
       "      <th>171</th>\n",
       "      <td>171</td>\n",
       "      <td>['hgamma', 'lgamma']</td>\n",
       "      <td>right temporal</td>\n",
       "      <td>0.949405</td>\n",
       "      <td>0.011671</td>\n",
       "      <td>0.887500</td>\n",
       "      <td>0.100000</td>\n",
       "      <td>1</td>\n",
       "      <td>4509</td>\n",
       "    </tr>\n",
       "    <tr>\n",
       "      <th>21</th>\n",
       "      <td>21</td>\n",
       "      <td>all</td>\n",
       "      <td>['right temporal', 'left temporal']</td>\n",
       "      <td>0.965228</td>\n",
       "      <td>0.006052</td>\n",
       "      <td>0.887500</td>\n",
       "      <td>0.100000</td>\n",
       "      <td>1</td>\n",
       "      <td>9018</td>\n",
       "    </tr>\n",
       "    <tr>\n",
       "      <th>188</th>\n",
       "      <td>188</td>\n",
       "      <td>['hgamma', 'lgamma']</td>\n",
       "      <td>central</td>\n",
       "      <td>1.000000</td>\n",
       "      <td>0.000000</td>\n",
       "      <td>0.886667</td>\n",
       "      <td>0.072332</td>\n",
       "      <td>3</td>\n",
       "      <td>9519</td>\n",
       "    </tr>\n",
       "    <tr>\n",
       "      <th>19</th>\n",
       "      <td>19</td>\n",
       "      <td>all</td>\n",
       "      <td>central</td>\n",
       "      <td>1.000000</td>\n",
       "      <td>0.000000</td>\n",
       "      <td>0.886667</td>\n",
       "      <td>0.045901</td>\n",
       "      <td>2</td>\n",
       "      <td>9519</td>\n",
       "    </tr>\n",
       "    <tr>\n",
       "      <th>10</th>\n",
       "      <td>10</td>\n",
       "      <td>all</td>\n",
       "      <td>parietal</td>\n",
       "      <td>1.000000</td>\n",
       "      <td>0.000000</td>\n",
       "      <td>0.875000</td>\n",
       "      <td>0.079057</td>\n",
       "      <td>2</td>\n",
       "      <td>12525</td>\n",
       "    </tr>\n",
       "    <tr>\n",
       "      <th>11</th>\n",
       "      <td>11</td>\n",
       "      <td>all</td>\n",
       "      <td>parietal</td>\n",
       "      <td>1.000000</td>\n",
       "      <td>0.000000</td>\n",
       "      <td>0.875000</td>\n",
       "      <td>0.068465</td>\n",
       "      <td>3</td>\n",
       "      <td>12525</td>\n",
       "    </tr>\n",
       "  </tbody>\n",
       "</table>\n",
       "</div>"
      ],
      "text/plain": [
       "     Unnamed: 0           frequencies                           electrodes  \\\n",
       "172         172  ['hgamma', 'lgamma']                       right temporal   \n",
       "173         173  ['hgamma', 'lgamma']                       right temporal   \n",
       "20           20                   all                              central   \n",
       "4             4                   all                       right temporal   \n",
       "171         171  ['hgamma', 'lgamma']                       right temporal   \n",
       "21           21                   all  ['right temporal', 'left temporal']   \n",
       "188         188  ['hgamma', 'lgamma']                              central   \n",
       "19           19                   all                              central   \n",
       "10           10                   all                             parietal   \n",
       "11           11                   all                             parietal   \n",
       "\n",
       "     train_acc  train_std       acc       std  param  n_features  \n",
       "172   0.996825   0.006349  0.912500  0.093541      2        4509  \n",
       "173   1.000000   0.000000  0.912500  0.063738      3        4509  \n",
       "20    1.000000   0.000000  0.899167  0.063268      3        9519  \n",
       "4     1.000000   0.000000  0.898333  0.085334      2        4509  \n",
       "171   0.949405   0.011671  0.887500  0.100000      1        4509  \n",
       "21    0.965228   0.006052  0.887500  0.100000      1        9018  \n",
       "188   1.000000   0.000000  0.886667  0.072332      3        9519  \n",
       "19    1.000000   0.000000  0.886667  0.045901      2        9519  \n",
       "10    1.000000   0.000000  0.875000  0.079057      2       12525  \n",
       "11    1.000000   0.000000  0.875000  0.068465      3       12525  "
      ]
     },
     "execution_count": 3,
     "metadata": {},
     "output_type": "execute_result"
    }
   ],
   "source": [
    "rfc_df.sort_values(by='acc', ascending=False).head(10)"
   ]
  },
  {
   "cell_type": "markdown",
   "id": "727ab352-d4ea-49ff-a4f9-e13c2a583bfd",
   "metadata": {},
   "source": [
    "It appears that the best models reach around 0.85 to 0.9 test accuracy. Since the dataset only includes\n",
    "79 samples, the test subsets only contain 15 or 16 of them (since 5 cross-validation folds were used).  \n",
    "Therefore, a slight difference in accuracy should not be interpreted as a necessary much better model."
   ]
  },
  {
   "cell_type": "markdown",
   "id": "0773290c-c769-420f-a1d6-8a5a8a7e4b99",
   "metadata": {},
   "source": [
    "### The most important brain area ?\n",
    "We can now have a look at the results grouped by brain area:"
   ]
  },
  {
   "cell_type": "code",
   "execution_count": 4,
   "id": "4399363b-cf14-4f77-a032-57fbbb4616a7",
   "metadata": {},
   "outputs": [
    {
     "data": {
      "text/html": [
       "<div>\n",
       "<style scoped>\n",
       "    .dataframe tbody tr th:only-of-type {\n",
       "        vertical-align: middle;\n",
       "    }\n",
       "\n",
       "    .dataframe tbody tr th {\n",
       "        vertical-align: top;\n",
       "    }\n",
       "\n",
       "    .dataframe thead th {\n",
       "        text-align: right;\n",
       "    }\n",
       "</style>\n",
       "<table border=\"1\" class=\"dataframe\">\n",
       "  <thead>\n",
       "    <tr style=\"text-align: right;\">\n",
       "      <th></th>\n",
       "      <th>acc</th>\n",
       "      <th>std</th>\n",
       "    </tr>\n",
       "    <tr>\n",
       "      <th>electrodes</th>\n",
       "      <th></th>\n",
       "      <th></th>\n",
       "    </tr>\n",
       "  </thead>\n",
       "  <tbody>\n",
       "    <tr>\n",
       "      <th>right temporal</th>\n",
       "      <td>0.722535</td>\n",
       "      <td>0.094899</td>\n",
       "    </tr>\n",
       "    <tr>\n",
       "      <th>['right temporal', 'left temporal']</th>\n",
       "      <td>0.684861</td>\n",
       "      <td>0.101435</td>\n",
       "    </tr>\n",
       "    <tr>\n",
       "      <th>central</th>\n",
       "      <td>0.684271</td>\n",
       "      <td>0.090305</td>\n",
       "    </tr>\n",
       "    <tr>\n",
       "      <th>all</th>\n",
       "      <td>0.682569</td>\n",
       "      <td>0.095822</td>\n",
       "    </tr>\n",
       "    <tr>\n",
       "      <th>parietal</th>\n",
       "      <td>0.675625</td>\n",
       "      <td>0.079199</td>\n",
       "    </tr>\n",
       "    <tr>\n",
       "      <th>frontal</th>\n",
       "      <td>0.622778</td>\n",
       "      <td>0.087967</td>\n",
       "    </tr>\n",
       "    <tr>\n",
       "      <th>left temporal</th>\n",
       "      <td>0.616806</td>\n",
       "      <td>0.103463</td>\n",
       "    </tr>\n",
       "    <tr>\n",
       "      <th>occipital</th>\n",
       "      <td>0.532118</td>\n",
       "      <td>0.092510</td>\n",
       "    </tr>\n",
       "  </tbody>\n",
       "</table>\n",
       "</div>"
      ],
      "text/plain": [
       "                                          acc       std\n",
       "electrodes                                             \n",
       "right temporal                       0.722535  0.094899\n",
       "['right temporal', 'left temporal']  0.684861  0.101435\n",
       "central                              0.684271  0.090305\n",
       "all                                  0.682569  0.095822\n",
       "parietal                             0.675625  0.079199\n",
       "frontal                              0.622778  0.087967\n",
       "left temporal                        0.616806  0.103463\n",
       "occipital                            0.532118  0.092510"
      ]
     },
     "execution_count": 4,
     "metadata": {},
     "output_type": "execute_result"
    }
   ],
   "source": [
    "areas_results = rfc_df[['electrodes', 'acc', 'std']].groupby('electrodes').mean().sort_values(by='acc', ascending=False)\n",
    "areas_results"
   ]
  },
  {
   "cell_type": "code",
   "execution_count": 5,
   "id": "7844d078-398b-4220-8016-d2caecb62fc6",
   "metadata": {},
   "outputs": [
    {
     "data": {
      "image/png": "[encoded data removed]",
      "text/plain": [
       "<Figure size 432x288 with 1 Axes>"
      ]
     },
     "metadata": {},
     "output_type": "display_data"
    }
   ],
   "source": [
    "sns.barplot(x=areas_results.index, y=areas_results['acc'])\n",
    "plt.xticks(np.arange(len(areas_results.index)), areas_results.index, rotation=90)\n",
    "plt.ylim(0.4, 0.8)\n",
    "plt.suptitle('Performance using each brain area')\n",
    "plt.ylabel('Average accuracy over all combinations')\n",
    "plt.xlabel(None)\n",
    "plt.savefig(os.path.join('figures', 'areas_perfs_rf.png'))\n",
    "plt.show()"
   ]
  },
  {
   "cell_type": "markdown",
   "id": "c6fb67f2-5f74-4e0d-a833-7c6f8ba015c7",
   "metadata": {},
   "source": [
    "### The most important frequencies ?"
   ]
  },
  {
   "cell_type": "code",
   "execution_count": 6,
   "id": "dae2a8a2-657c-4e63-bf66-57fed25cb5e2",
   "metadata": {},
   "outputs": [
    {
     "data": {
      "text/html": [
       "<div>\n",
       "<style scoped>\n",
       "    .dataframe tbody tr th:only-of-type {\n",
       "        vertical-align: middle;\n",
       "    }\n",
       "\n",
       "    .dataframe tbody tr th {\n",
       "        vertical-align: top;\n",
       "    }\n",
       "\n",
       "    .dataframe thead th {\n",
       "        text-align: right;\n",
       "    }\n",
       "</style>\n",
       "<table border=\"1\" class=\"dataframe\">\n",
       "  <thead>\n",
       "    <tr style=\"text-align: right;\">\n",
       "      <th></th>\n",
       "      <th>acc</th>\n",
       "      <th>std</th>\n",
       "    </tr>\n",
       "    <tr>\n",
       "      <th>frequencies</th>\n",
       "      <th></th>\n",
       "      <th></th>\n",
       "    </tr>\n",
       "  </thead>\n",
       "  <tbody>\n",
       "    <tr>\n",
       "      <th>all</th>\n",
       "      <td>0.807569</td>\n",
       "      <td>0.083982</td>\n",
       "    </tr>\n",
       "    <tr>\n",
       "      <th>['hgamma', 'lgamma']</th>\n",
       "      <td>0.788924</td>\n",
       "      <td>0.084468</td>\n",
       "    </tr>\n",
       "    <tr>\n",
       "      <th>hgamma</th>\n",
       "      <td>0.774583</td>\n",
       "      <td>0.083543</td>\n",
       "    </tr>\n",
       "    <tr>\n",
       "      <th>lgamma</th>\n",
       "      <td>0.691354</td>\n",
       "      <td>0.103743</td>\n",
       "    </tr>\n",
       "    <tr>\n",
       "      <th>theta</th>\n",
       "      <td>0.560451</td>\n",
       "      <td>0.090533</td>\n",
       "    </tr>\n",
       "    <tr>\n",
       "      <th>beta</th>\n",
       "      <td>0.551667</td>\n",
       "      <td>0.120905</td>\n",
       "    </tr>\n",
       "    <tr>\n",
       "      <th>alpha</th>\n",
       "      <td>0.551146</td>\n",
       "      <td>0.083891</td>\n",
       "    </tr>\n",
       "    <tr>\n",
       "      <th>delta</th>\n",
       "      <td>0.495868</td>\n",
       "      <td>0.094535</td>\n",
       "    </tr>\n",
       "  </tbody>\n",
       "</table>\n",
       "</div>"
      ],
      "text/plain": [
       "                           acc       std\n",
       "frequencies                             \n",
       "all                   0.807569  0.083982\n",
       "['hgamma', 'lgamma']  0.788924  0.084468\n",
       "hgamma                0.774583  0.083543\n",
       "lgamma                0.691354  0.103743\n",
       "theta                 0.560451  0.090533\n",
       "beta                  0.551667  0.120905\n",
       "alpha                 0.551146  0.083891\n",
       "delta                 0.495868  0.094535"
      ]
     },
     "execution_count": 6,
     "metadata": {},
     "output_type": "execute_result"
    }
   ],
   "source": [
    "freqs_results = rfc_df[['frequencies', 'acc', 'std']].groupby('frequencies').mean().sort_values(by='acc', ascending=False)\n",
    "freqs_results"
   ]
  },
  {
   "cell_type": "code",
   "execution_count": 7,
   "id": "88303f41-9be5-4878-b054-b52787f4c7ea",
   "metadata": {},
   "outputs": [
    {
     "data": {
      "image/png": "[encoded data removed]",
      "text/plain": [
       "<Figure size 432x288 with 1 Axes>"
      ]
     },
     "metadata": {},
     "output_type": "display_data"
    }
   ],
   "source": [
    "sns.barplot(x=freqs_results.index, y=freqs_results['acc'])\n",
    "plt.xticks(np.arange(len(freqs_results.index)), freqs_results.index, rotation=90)\n",
    "plt.ylim(0.4, 0.9)\n",
    "plt.suptitle('Performance using each frequency band - Random Forest')\n",
    "plt.ylabel('Average accuracy over all combinations')\n",
    "plt.xlabel(None)\n",
    "plt.savefig(os.path.join('figures', 'freqs_perfs_rf.png'))\n",
    "plt.show()"
   ]
  },
  {
   "cell_type": "markdown",
   "id": "d57e4786-320b-4bf8-804b-be1788bb79b1",
   "metadata": {},
   "source": [
    "Clearly the higher frequencies give more information regarding the syllable that the subject is imagining."
   ]
  },
  {
   "cell_type": "markdown",
   "id": "7494dd4f-7229-4f10-8056-51ba186ed1b4",
   "metadata": {},
   "source": [
    "### Does the forest need depth ?\n",
    "The classification accuracies reach high values without increasing the trees' depths over 3, which is relatively shallow. This low depth\n",
    "allows us to use more trees (300 in the experiment) while training the models very quickly."
   ]
  },
  {
   "cell_type": "code",
   "execution_count": 8,
   "id": "07328adb-1f01-49db-9293-8980c08559b6",
   "metadata": {},
   "outputs": [
    {
     "data": {
      "text/html": [
       "<div>\n",
       "<style scoped>\n",
       "    .dataframe tbody tr th:only-of-type {\n",
       "        vertical-align: middle;\n",
       "    }\n",
       "\n",
       "    .dataframe tbody tr th {\n",
       "        vertical-align: top;\n",
       "    }\n",
       "\n",
       "    .dataframe thead th {\n",
       "        text-align: right;\n",
       "    }\n",
       "</style>\n",
       "<table border=\"1\" class=\"dataframe\">\n",
       "  <thead>\n",
       "    <tr style=\"text-align: right;\">\n",
       "      <th></th>\n",
       "      <th>acc</th>\n",
       "      <th>std</th>\n",
       "    </tr>\n",
       "    <tr>\n",
       "      <th>param</th>\n",
       "      <th></th>\n",
       "      <th></th>\n",
       "    </tr>\n",
       "  </thead>\n",
       "  <tbody>\n",
       "    <tr>\n",
       "      <th>3</th>\n",
       "      <td>0.654466</td>\n",
       "      <td>0.092683</td>\n",
       "    </tr>\n",
       "    <tr>\n",
       "      <th>2</th>\n",
       "      <td>0.652122</td>\n",
       "      <td>0.096890</td>\n",
       "    </tr>\n",
       "    <tr>\n",
       "      <th>1</th>\n",
       "      <td>0.651497</td>\n",
       "      <td>0.090027</td>\n",
       "    </tr>\n",
       "  </tbody>\n",
       "</table>\n",
       "</div>"
      ],
      "text/plain": [
       "            acc       std\n",
       "param                    \n",
       "3      0.654466  0.092683\n",
       "2      0.652122  0.096890\n",
       "1      0.651497  0.090027"
      ]
     },
     "execution_count": 8,
     "metadata": {},
     "output_type": "execute_result"
    }
   ],
   "source": [
    "param_results = rfc_df[['param', 'acc', 'std']].groupby('param').mean().sort_values(by='acc', ascending=False)\n",
    "param_results"
   ]
  },
  {
   "cell_type": "markdown",
   "id": "1768a97f-0caa-47f7-9c7c-fc5987cf4aeb",
   "metadata": {},
   "source": [
    "It seems that the depth does not make that much of a difference."
   ]
  },
  {
   "cell_type": "markdown",
   "id": "ac7c17d0-5a81-411d-acc3-b83780ed6f23",
   "metadata": {},
   "source": [
    "### Evaluating the best model on other days\n",
    "We will now evaluate the best features for all days, and compare them to a baseline model\n",
    "which uses all features with all electrodes."
   ]
  },
  {
   "cell_type": "code",
   "execution_count": 9,
   "id": "41b17021-8fe0-470b-83d7-eb00558385ad",
   "metadata": {},
   "outputs": [],
   "source": [
    "from scripts.evaluate_model import evaluate"
   ]
  },
  {
   "cell_type": "code",
   "execution_count": 10,
   "id": "f2d57277-0469-49e3-91d3-18a0971aa23a",
   "metadata": {},
   "outputs": [
    {
     "name": "stdout",
     "output_type": "stream",
     "text": [
      "Selecting electrodes groups right temporal\n",
      "Selecting frequency band [25, 70]\n",
      "Selecting electrodes groups right temporal\n",
      "Selecting frequency band [25, 70]\n",
      "Selecting electrodes groups right temporal\n",
      "Selecting frequency band [25, 70]\n",
      "Selecting electrodes groups right temporal\n",
      "Selecting frequency band [25, 70]\n",
      "Selecting electrodes groups right temporal\n",
      "Selecting frequency band [25, 70]\n",
      "Selecting frequency band [1, 100]    \n",
      "Selecting frequency band [1, 100]    \n",
      "Selecting frequency band [1, 100]    \n",
      "Selecting frequency band [1, 100]    \n",
      "Selecting frequency band [1, 100]    \n",
      "Cross-validating on subset 4...      \r"
     ]
    }
   ],
   "source": [
    "# Avg accuracy of the best features, over each day\n",
    "# For each day, estimates the performances of a random forest on those\n",
    "# features and hyperparameters using cross-validation\n",
    "all_days_accs = [\n",
    "evaluate('random_forest', day=day, areas='right temporal', freq_bands=['hgamma', 'lgamma'], max_depth=3, use_clean_data=True)[1][0]\n",
    "    for day in range(1, 6)\n",
    "]\n",
    "# Baseline model: all frequencies, all channels\n",
    "baseline_accs = [\n",
    "evaluate('random_forest', day=day, areas='all', freq_bands='all', max_depth=3, use_clean_data=True)[1][0]\n",
    "    for day in range(1, 6)\n",
    "]"
   ]
  },
  {
   "cell_type": "code",
   "execution_count": 21,
   "id": "32ff97cd-d489-4118-827b-a47c83c088f9",
   "metadata": {},
   "outputs": [
    {
     "data": {
      "image/png": "[encoded data removed]",
      "text/plain": [
       "<Figure size 720x576 with 1 Axes>"
      ]
     },
     "metadata": {},
     "output_type": "display_data"
    }
   ],
   "source": [
    "plt.figure(figsize=(10, 8))\n",
    "days = np.arange(1, 6)\n",
    "plt.plot(days, all_days_accs, \"ro-\")\n",
    "plt.plot(days, baseline_accs, 'go-')\n",
    "plt.ylabel('Test accuracy')\n",
    "plt.xlabel('Experiment day')\n",
    "plt.xticks(days)\n",
    "plt.legend(['Optimized features', 'Baseline power spectrum model'])\n",
    "plt.savefig('features_days_comp_rf.png')\n",
    "plt.show()"
   ]
  },
  {
   "cell_type": "markdown",
   "id": "d835d034-7a1e-4c20-a6c3-30e0d14e6c4b",
   "metadata": {},
   "source": [
    "## Evaluation through logistic regression\n",
    "The following will evaluate the best model for each features combination using a logistic regression:  \n",
    "```python scripts/evaluate_features.py random_forest```  \n",
    "The regression is adjusted using Ridge regularization."
   ]
  },
  {
   "cell_type": "code",
   "execution_count": 12,
   "id": "1da7935b-5dcd-4da6-8ee3-532de25a5b97",
   "metadata": {},
   "outputs": [
    {
     "data": {
      "text/html": [
       "<div>\n",
       "<style scoped>\n",
       "    .dataframe tbody tr th:only-of-type {\n",
       "        vertical-align: middle;\n",
       "    }\n",
       "\n",
       "    .dataframe tbody tr th {\n",
       "        vertical-align: top;\n",
       "    }\n",
       "\n",
       "    .dataframe thead th {\n",
       "        text-align: right;\n",
       "    }\n",
       "</style>\n",
       "<table border=\"1\" class=\"dataframe\">\n",
       "  <thead>\n",
       "    <tr style=\"text-align: right;\">\n",
       "      <th></th>\n",
       "      <th>Unnamed: 0</th>\n",
       "      <th>frequencies</th>\n",
       "      <th>electrodes</th>\n",
       "      <th>train_acc</th>\n",
       "      <th>train_std</th>\n",
       "      <th>acc</th>\n",
       "      <th>std</th>\n",
       "      <th>param</th>\n",
       "      <th>n_features</th>\n",
       "    </tr>\n",
       "  </thead>\n",
       "  <tbody>\n",
       "    <tr>\n",
       "      <th>58</th>\n",
       "      <td>58</td>\n",
       "      <td>hgamma</td>\n",
       "      <td>right temporal</td>\n",
       "      <td>1.000000</td>\n",
       "      <td>0.000000</td>\n",
       "      <td>0.873333</td>\n",
       "      <td>0.068546</td>\n",
       "      <td>10.0</td>\n",
       "      <td>4509</td>\n",
       "    </tr>\n",
       "    <tr>\n",
       "      <th>59</th>\n",
       "      <td>59</td>\n",
       "      <td>hgamma</td>\n",
       "      <td>right temporal</td>\n",
       "      <td>1.000000</td>\n",
       "      <td>0.000000</td>\n",
       "      <td>0.873333</td>\n",
       "      <td>0.068546</td>\n",
       "      <td>100.0</td>\n",
       "      <td>4509</td>\n",
       "    </tr>\n",
       "    <tr>\n",
       "      <th>88</th>\n",
       "      <td>88</td>\n",
       "      <td>hgamma</td>\n",
       "      <td>central</td>\n",
       "      <td>1.000000</td>\n",
       "      <td>0.000000</td>\n",
       "      <td>0.861667</td>\n",
       "      <td>0.091188</td>\n",
       "      <td>10.0</td>\n",
       "      <td>9519</td>\n",
       "    </tr>\n",
       "    <tr>\n",
       "      <th>57</th>\n",
       "      <td>57</td>\n",
       "      <td>hgamma</td>\n",
       "      <td>right temporal</td>\n",
       "      <td>0.981002</td>\n",
       "      <td>0.006375</td>\n",
       "      <td>0.860833</td>\n",
       "      <td>0.091689</td>\n",
       "      <td>1.0</td>\n",
       "      <td>4509</td>\n",
       "    </tr>\n",
       "    <tr>\n",
       "      <th>89</th>\n",
       "      <td>89</td>\n",
       "      <td>hgamma</td>\n",
       "      <td>central</td>\n",
       "      <td>1.000000</td>\n",
       "      <td>0.000000</td>\n",
       "      <td>0.849167</td>\n",
       "      <td>0.092774</td>\n",
       "      <td>100.0</td>\n",
       "      <td>9519</td>\n",
       "    </tr>\n",
       "    <tr>\n",
       "      <th>87</th>\n",
       "      <td>87</td>\n",
       "      <td>hgamma</td>\n",
       "      <td>central</td>\n",
       "      <td>0.993651</td>\n",
       "      <td>0.007776</td>\n",
       "      <td>0.849167</td>\n",
       "      <td>0.083931</td>\n",
       "      <td>1.0</td>\n",
       "      <td>9519</td>\n",
       "    </tr>\n",
       "    <tr>\n",
       "      <th>93</th>\n",
       "      <td>93</td>\n",
       "      <td>hgamma</td>\n",
       "      <td>['right temporal', 'left temporal']</td>\n",
       "      <td>1.000000</td>\n",
       "      <td>0.000000</td>\n",
       "      <td>0.848333</td>\n",
       "      <td>0.084352</td>\n",
       "      <td>1.0</td>\n",
       "      <td>9018</td>\n",
       "    </tr>\n",
       "    <tr>\n",
       "      <th>94</th>\n",
       "      <td>94</td>\n",
       "      <td>hgamma</td>\n",
       "      <td>['right temporal', 'left temporal']</td>\n",
       "      <td>1.000000</td>\n",
       "      <td>0.000000</td>\n",
       "      <td>0.848333</td>\n",
       "      <td>0.084352</td>\n",
       "      <td>10.0</td>\n",
       "      <td>9018</td>\n",
       "    </tr>\n",
       "    <tr>\n",
       "      <th>95</th>\n",
       "      <td>95</td>\n",
       "      <td>hgamma</td>\n",
       "      <td>['right temporal', 'left temporal']</td>\n",
       "      <td>1.000000</td>\n",
       "      <td>0.000000</td>\n",
       "      <td>0.848333</td>\n",
       "      <td>0.115608</td>\n",
       "      <td>100.0</td>\n",
       "      <td>9018</td>\n",
       "    </tr>\n",
       "    <tr>\n",
       "      <th>346</th>\n",
       "      <td>346</td>\n",
       "      <td>['hgamma', 'lgamma']</td>\n",
       "      <td>right temporal</td>\n",
       "      <td>1.000000</td>\n",
       "      <td>0.000000</td>\n",
       "      <td>0.847500</td>\n",
       "      <td>0.076404</td>\n",
       "      <td>10.0</td>\n",
       "      <td>4509</td>\n",
       "    </tr>\n",
       "  </tbody>\n",
       "</table>\n",
       "</div>"
      ],
      "text/plain": [
       "     Unnamed: 0           frequencies                           electrodes  \\\n",
       "58           58                hgamma                       right temporal   \n",
       "59           59                hgamma                       right temporal   \n",
       "88           88                hgamma                              central   \n",
       "57           57                hgamma                       right temporal   \n",
       "89           89                hgamma                              central   \n",
       "87           87                hgamma                              central   \n",
       "93           93                hgamma  ['right temporal', 'left temporal']   \n",
       "94           94                hgamma  ['right temporal', 'left temporal']   \n",
       "95           95                hgamma  ['right temporal', 'left temporal']   \n",
       "346         346  ['hgamma', 'lgamma']                       right temporal   \n",
       "\n",
       "     train_acc  train_std       acc       std  param  n_features  \n",
       "58    1.000000   0.000000  0.873333  0.068546   10.0        4509  \n",
       "59    1.000000   0.000000  0.873333  0.068546  100.0        4509  \n",
       "88    1.000000   0.000000  0.861667  0.091188   10.0        9519  \n",
       "57    0.981002   0.006375  0.860833  0.091689    1.0        4509  \n",
       "89    1.000000   0.000000  0.849167  0.092774  100.0        9519  \n",
       "87    0.993651   0.007776  0.849167  0.083931    1.0        9519  \n",
       "93    1.000000   0.000000  0.848333  0.084352    1.0        9018  \n",
       "94    1.000000   0.000000  0.848333  0.084352   10.0        9018  \n",
       "95    1.000000   0.000000  0.848333  0.115608  100.0        9018  \n",
       "346   1.000000   0.000000  0.847500  0.076404   10.0        4509  "
      ]
     },
     "execution_count": 12,
     "metadata": {},
     "output_type": "execute_result"
    }
   ],
   "source": [
    "lr_df = pd.read_csv(os.path.join('evaluations', 'logistic_regression_features_evaluation.csv'))\n",
    "lr_df = lr_df.sort_values(by='acc', ascending=False)\n",
    "lr_df.head(10)"
   ]
  },
  {
   "cell_type": "markdown",
   "id": "cc798a61-6e5a-4c8f-ae10-f71a40b972d4",
   "metadata": {},
   "source": [
    "The 'param' column indicates the inverse of the regularization weight (the higher the param, the less the model\n",
    "is penalized).  \n",
    "As expected, the logistic regression needs that the number of features be limited to perform well on unseen samples."
   ]
  },
  {
   "cell_type": "markdown",
   "id": "b48cf76d-f4dd-45ac-9657-994842bfeed8",
   "metadata": {},
   "source": [
    "### Brain areas comparison"
   ]
  },
  {
   "cell_type": "code",
   "execution_count": 13,
   "id": "9508ea3e-910b-4c8b-bedb-c4e988c2b1a2",
   "metadata": {},
   "outputs": [
    {
     "data": {
      "image/png": "[encoded data removed]",
      "text/plain": [
       "<Figure size 432x288 with 1 Axes>"
      ]
     },
     "metadata": {},
     "output_type": "display_data"
    }
   ],
   "source": [
    "areas_results = lr_df[['electrodes', 'acc', 'std']].groupby('electrodes').mean().sort_values(by='acc', ascending=False)\n",
    "sns.barplot(x=areas_results.index, y=areas_results['acc'])\n",
    "plt.xticks(np.arange(len(areas_results.index)), areas_results.index, rotation=90)\n",
    "plt.ylim(0.4, 0.8)\n",
    "plt.suptitle('Performance using each brain area - Logistic Regression')\n",
    "plt.ylabel('Average accuracy over all combinations')\n",
    "plt.xlabel(None)\n",
    "plt.savefig(os.path.join('figures', 'areas_perfs_lr.png'))\n",
    "plt.show()"
   ]
  },
  {
   "cell_type": "markdown",
   "id": "d570c1a9-3532-46e2-8ba2-2627ec9a0fc0",
   "metadata": {},
   "source": [
    "### Frequencies importance"
   ]
  },
  {
   "cell_type": "code",
   "execution_count": 15,
   "id": "633fc0bd-7205-4807-86f3-cd3c2acddd29",
   "metadata": {},
   "outputs": [
    {
     "data": {
      "image/png": "[encoded data removed]",
      "text/plain": [
       "<Figure size 432x288 with 1 Axes>"
      ]
     },
     "metadata": {},
     "output_type": "display_data"
    }
   ],
   "source": [
    "freqs_results = lr_df[['frequencies', 'acc', 'std']].groupby('frequencies').mean().sort_values(by='acc', ascending=False)\n",
    "sns.barplot(x=freqs_results.index, y=freqs_results['acc'])\n",
    "plt.xticks(np.arange(len(freqs_results.index)), freqs_results.index, rotation=90)\n",
    "plt.ylim(0.4, 0.8)\n",
    "plt.suptitle('Performance using each frequency band - Logistic Regression')\n",
    "plt.ylabel('Average accuracy over all combinations')\n",
    "plt.xlabel(None)\n",
    "plt.savefig(os.path.join('figures', 'freqs_perfs_lr.png'))\n",
    "plt.show()"
   ]
  },
  {
   "cell_type": "markdown",
   "id": "0837d551-9ddc-400e-aa13-f6373a11c0e1",
   "metadata": {},
   "source": [
    "## Conclusion\n",
    "It seems pretty clear that using the Right Temporal area and the gamma frequency band allows to gather much if not all of the\n",
    "valuable information while limiting the amount of features. This is particularly useful for models that overfit easily with\n",
    "a larger number of features, such as the logistic regression or neural networks."
   ]
  }
 ],
 "metadata": {
  "kernelspec": {
   "display_name": "Python 3",
   "language": "python",
   "name": "python3"
  },
  "language_info": {
   "codemirror_mode": {
    "name": "ipython",
    "version": 3
   },
   "file_extension": ".py",
   "mimetype": "text/x-python",
   "name": "python",
   "nbconvert_exporter": "python",
   "pygments_lexer": "ipython3",
   "version": "3.9.7"
  }
 },
 "nbformat": 4,
 "nbformat_minor": 5
}
